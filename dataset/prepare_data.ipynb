{
 "cells": [
  {
   "cell_type": "code",
   "execution_count": 1,
   "id": "c356661a",
   "metadata": {},
   "outputs": [
    {
     "name": "stderr",
     "output_type": "stream",
     "text": [
      "C:\\Users\\USER\\AppData\\Roaming\\Python\\Python310\\site-packages\\tqdm\\auto.py:21: TqdmWarning: IProgress not found. Please update jupyter and ipywidgets. See https://ipywidgets.readthedocs.io/en/stable/user_install.html\n",
      "  from .autonotebook import tqdm as notebook_tqdm\n"
     ]
    }
   ],
   "source": [
    "from datasets import load_dataset,load_from_disk\n",
    "import datasets\n",
    "import re\n",
    "import random\n",
    "import ast\n",
    "from datasets import Dataset\n",
    "import matplotlib.pyplot as plt\n",
    "import numpy as np"
   ]
  },
  {
   "cell_type": "markdown",
   "id": "3d1d6d57",
   "metadata": {},
   "source": [
    "# load dataset and save to local"
   ]
  },
  {
   "cell_type": "code",
   "execution_count": 1,
   "id": "4dc7be05",
   "metadata": {
    "scrolled": true
   },
   "outputs": [
    {
     "data": {
      "application/vnd.jupyter.widget-view+json": {
       "model_id": "",
       "version_major": 2,
       "version_minor": 0
      },
      "text/plain": [
       "Downloading readme:   0%|          | 0.00/15.9k [00:00<?, ?B/s]"
      ]
     },
     "metadata": {},
     "output_type": "display_data"
    },
    {
     "name": "stdout",
     "output_type": "stream",
     "text": [
      "Downloading and preparing dataset json/ai4privacy--pii-masking-300k to C:/Users/User/.cache/huggingface/datasets/ai4privacy___json/ai4privacy--pii-masking-300k-ea412926aeaada9c/0.0.0/e347ab1c932092252e717ff3f949105a4dd28b27e842dd53157d2f72e276c2e4...\n"
     ]
    },
    {
     "data": {
      "application/vnd.jupyter.widget-view+json": {
       "model_id": "",
       "version_major": 2,
       "version_minor": 0
      },
      "text/plain": [
       "Downloading data files:   0%|          | 0/2 [00:00<?, ?it/s]"
      ]
     },
     "metadata": {},
     "output_type": "display_data"
    },
    {
     "data": {
      "application/vnd.jupyter.widget-view+json": {
       "model_id": "",
       "version_major": 2,
       "version_minor": 0
      },
      "text/plain": [
       "Downloading data:   0%|          | 0.00/103M [00:00<?, ?B/s]"
      ]
     },
     "metadata": {},
     "output_type": "display_data"
    },
    {
     "data": {
      "application/vnd.jupyter.widget-view+json": {
       "model_id": "",
       "version_major": 2,
       "version_minor": 0
      },
      "text/plain": [
       "Downloading data:   0%|          | 0.00/102M [00:00<?, ?B/s]"
      ]
     },
     "metadata": {},
     "output_type": "display_data"
    },
    {
     "data": {
      "application/vnd.jupyter.widget-view+json": {
       "model_id": "",
       "version_major": 2,
       "version_minor": 0
      },
      "text/plain": [
       "Downloading data:   0%|          | 0.00/114M [00:00<?, ?B/s]"
      ]
     },
     "metadata": {},
     "output_type": "display_data"
    },
    {
     "data": {
      "application/vnd.jupyter.widget-view+json": {
       "model_id": "",
       "version_major": 2,
       "version_minor": 0
      },
      "text/plain": [
       "Downloading data:   0%|          | 0.00/108M [00:00<?, ?B/s]"
      ]
     },
     "metadata": {},
     "output_type": "display_data"
    },
    {
     "data": {
      "application/vnd.jupyter.widget-view+json": {
       "model_id": "",
       "version_major": 2,
       "version_minor": 0
      },
      "text/plain": [
       "Downloading data:   0%|          | 0.00/104M [00:00<?, ?B/s]"
      ]
     },
     "metadata": {},
     "output_type": "display_data"
    },
    {
     "data": {
      "application/vnd.jupyter.widget-view+json": {
       "model_id": "",
       "version_major": 2,
       "version_minor": 0
      },
      "text/plain": [
       "Downloading data:   0%|          | 0.00/102M [00:00<?, ?B/s]"
      ]
     },
     "metadata": {},
     "output_type": "display_data"
    },
    {
     "data": {
      "application/vnd.jupyter.widget-view+json": {
       "model_id": "",
       "version_major": 2,
       "version_minor": 0
      },
      "text/plain": [
       "Downloading data:   0%|          | 0.00/27.3M [00:00<?, ?B/s]"
      ]
     },
     "metadata": {},
     "output_type": "display_data"
    },
    {
     "data": {
      "application/vnd.jupyter.widget-view+json": {
       "model_id": "",
       "version_major": 2,
       "version_minor": 0
      },
      "text/plain": [
       "Downloading data:   0%|          | 0.00/27.0M [00:00<?, ?B/s]"
      ]
     },
     "metadata": {},
     "output_type": "display_data"
    },
    {
     "data": {
      "application/vnd.jupyter.widget-view+json": {
       "model_id": "",
       "version_major": 2,
       "version_minor": 0
      },
      "text/plain": [
       "Downloading data:   0%|          | 0.00/30.7M [00:00<?, ?B/s]"
      ]
     },
     "metadata": {},
     "output_type": "display_data"
    },
    {
     "data": {
      "application/vnd.jupyter.widget-view+json": {
       "model_id": "",
       "version_major": 2,
       "version_minor": 0
      },
      "text/plain": [
       "Downloading data:   0%|          | 0.00/29.2M [00:00<?, ?B/s]"
      ]
     },
     "metadata": {},
     "output_type": "display_data"
    },
    {
     "data": {
      "application/vnd.jupyter.widget-view+json": {
       "model_id": "",
       "version_major": 2,
       "version_minor": 0
      },
      "text/plain": [
       "Downloading data:   0%|          | 0.00/28.3M [00:00<?, ?B/s]"
      ]
     },
     "metadata": {},
     "output_type": "display_data"
    },
    {
     "data": {
      "application/vnd.jupyter.widget-view+json": {
       "model_id": "",
       "version_major": 2,
       "version_minor": 0
      },
      "text/plain": [
       "Downloading data:   0%|          | 0.00/27.7M [00:00<?, ?B/s]"
      ]
     },
     "metadata": {},
     "output_type": "display_data"
    },
    {
     "data": {
      "application/vnd.jupyter.widget-view+json": {
       "model_id": "",
       "version_major": 2,
       "version_minor": 0
      },
      "text/plain": [
       "Extracting data files:   0%|          | 0/2 [00:00<?, ?it/s]"
      ]
     },
     "metadata": {},
     "output_type": "display_data"
    },
    {
     "data": {
      "application/vnd.jupyter.widget-view+json": {
       "model_id": "",
       "version_major": 2,
       "version_minor": 0
      },
      "text/plain": [
       "Generating train split: 0 examples [00:00, ? examples/s]"
      ]
     },
     "metadata": {},
     "output_type": "display_data"
    },
    {
     "data": {
      "application/vnd.jupyter.widget-view+json": {
       "model_id": "",
       "version_major": 2,
       "version_minor": 0
      },
      "text/plain": [
       "Generating validation split: 0 examples [00:00, ? examples/s]"
      ]
     },
     "metadata": {},
     "output_type": "display_data"
    },
    {
     "name": "stdout",
     "output_type": "stream",
     "text": [
      "Dataset json downloaded and prepared to C:/Users/User/.cache/huggingface/datasets/ai4privacy___json/ai4privacy--pii-masking-300k-ea412926aeaada9c/0.0.0/e347ab1c932092252e717ff3f949105a4dd28b27e842dd53157d2f72e276c2e4. Subsequent calls will reuse this data.\n"
     ]
    },
    {
     "data": {
      "application/vnd.jupyter.widget-view+json": {
       "model_id": "",
       "version_major": 2,
       "version_minor": 0
      },
      "text/plain": [
       "  0%|          | 0/2 [00:00<?, ?it/s]"
      ]
     },
     "metadata": {},
     "output_type": "display_data"
    }
   ],
   "source": [
    "dataset = load_dataset(\"ai4privacy/pii-masking-300k\")"
   ]
  },
  {
   "cell_type": "code",
   "execution_count": 2,
   "id": "590b3cb8",
   "metadata": {},
   "outputs": [
    {
     "data": {
      "application/vnd.jupyter.widget-view+json": {
       "model_id": "",
       "version_major": 2,
       "version_minor": 0
      },
      "text/plain": [
       "Saving the dataset (0/2 shards):   0%|          | 0/177677 [00:00<?, ? examples/s]"
      ]
     },
     "metadata": {},
     "output_type": "display_data"
    },
    {
     "data": {
      "application/vnd.jupyter.widget-view+json": {
       "model_id": "",
       "version_major": 2,
       "version_minor": 0
      },
      "text/plain": [
       "Saving the dataset (0/1 shards):   0%|          | 0/47728 [00:00<?, ? examples/s]"
      ]
     },
     "metadata": {},
     "output_type": "display_data"
    }
   ],
   "source": [
    "dataset.save_to_disk(\"pii-masking-300k.json\")"
   ]
  },
  {
   "cell_type": "code",
   "execution_count": 3,
   "id": "84172e00",
   "metadata": {},
   "outputs": [
    {
     "data": {
      "text/plain": [
       "DatasetDict({\n",
       "    train: Dataset({\n",
       "        features: ['source_text', 'target_text', 'privacy_mask', 'span_labels', 'mbert_text_tokens', 'mbert_bio_labels', 'id', 'language', 'set'],\n",
       "        num_rows: 177677\n",
       "    })\n",
       "    validation: Dataset({\n",
       "        features: ['source_text', 'target_text', 'privacy_mask', 'span_labels', 'mbert_text_tokens', 'mbert_bio_labels', 'id', 'language', 'set'],\n",
       "        num_rows: 47728\n",
       "    })\n",
       "})"
      ]
     },
     "execution_count": 3,
     "metadata": {},
     "output_type": "execute_result"
    }
   ],
   "source": [
    "dataset"
   ]
  },
  {
   "cell_type": "markdown",
   "id": "c1a4d10b",
   "metadata": {},
   "source": [
    "# Split train set into three pieces\n",
    "\n",
    "One for SFT, one for reward model, and one for PPO."
   ]
  },
  {
   "cell_type": "code",
   "execution_count": 12,
   "id": "688523e9",
   "metadata": {},
   "outputs": [
    {
     "name": "stdout",
     "output_type": "stream",
     "text": [
      "Dataset({\n",
      "    features: ['source_text', 'target_text', 'privacy_mask', 'span_labels', 'mbert_text_tokens', 'mbert_bio_labels', 'id', 'language', 'set'],\n",
      "    num_rows: 59225\n",
      "})\n",
      "Dataset({\n",
      "    features: ['source_text', 'target_text', 'privacy_mask', 'span_labels', 'mbert_text_tokens', 'mbert_bio_labels', 'id', 'language', 'set'],\n",
      "    num_rows: 59226\n",
      "})\n",
      "Dataset({\n",
      "    features: ['source_text', 'target_text', 'privacy_mask', 'span_labels', 'mbert_text_tokens', 'mbert_bio_labels', 'id', 'language', 'set'],\n",
      "    num_rows: 59226\n",
      "})\n"
     ]
    }
   ],
   "source": [
    "sft_train = dataset['train'].train_test_split(test_size=0.666666)\n",
    "reward_data = sft_train['test'].train_test_split(test_size=0.5)\n",
    "ppo_train = reward_data['test']\n",
    "sft_train = sft_train['train']\n",
    "reward_data = reward_data['train']\n",
    "print(sft_train)\n",
    "print(reward_data)\n",
    "print(ppo_train)"
   ]
  },
  {
   "cell_type": "code",
   "execution_count": 13,
   "id": "191e745f",
   "metadata": {},
   "outputs": [
    {
     "data": {
      "application/vnd.jupyter.widget-view+json": {
       "model_id": "",
       "version_major": 2,
       "version_minor": 0
      },
      "text/plain": [
       "Saving the dataset (0/1 shards):   0%|          | 0/59225 [00:00<?, ? examples/s]"
      ]
     },
     "metadata": {},
     "output_type": "display_data"
    },
    {
     "data": {
      "application/vnd.jupyter.widget-view+json": {
       "model_id": "",
       "version_major": 2,
       "version_minor": 0
      },
      "text/plain": [
       "Saving the dataset (0/1 shards):   0%|          | 0/59226 [00:00<?, ? examples/s]"
      ]
     },
     "metadata": {},
     "output_type": "display_data"
    },
    {
     "data": {
      "application/vnd.jupyter.widget-view+json": {
       "model_id": "",
       "version_major": 2,
       "version_minor": 0
      },
      "text/plain": [
       "Saving the dataset (0/1 shards):   0%|          | 0/59226 [00:00<?, ? examples/s]"
      ]
     },
     "metadata": {},
     "output_type": "display_data"
    },
    {
     "data": {
      "application/vnd.jupyter.widget-view+json": {
       "model_id": "",
       "version_major": 2,
       "version_minor": 0
      },
      "text/plain": [
       "Saving the dataset (0/1 shards):   0%|          | 0/47728 [00:00<?, ? examples/s]"
      ]
     },
     "metadata": {},
     "output_type": "display_data"
    }
   ],
   "source": [
    "sft_train.save_to_disk(\"pii-masking-300k-split/sft-train\")\n",
    "reward_data.save_to_disk(\"pii-masking-300k-split/reward-data\")\n",
    "ppo_train.save_to_disk(\"pii-masking-300k-split/ppo-train\")\n",
    "dataset['validation'].save_to_disk(\"pii-masking-300k-split/test\")"
   ]
  },
  {
   "cell_type": "markdown",
   "id": "530c8d5d",
   "metadata": {},
   "source": [
    "# Check labels"
   ]
  },
  {
   "cell_type": "code",
   "execution_count": 5,
   "id": "765f33b0",
   "metadata": {},
   "outputs": [
    {
     "name": "stderr",
     "output_type": "stream",
     "text": [
      "Using custom data configuration ai4privacy--pii-masking-300k-507d25b4ab67b359\n",
      "Reusing dataset json (C:\\Users\\User\\.cache\\huggingface\\datasets\\ai4privacy___json\\ai4privacy--pii-masking-300k-507d25b4ab67b359\\0.0.0\\a3e658c4731e59120d44081ac10bf85dc7e1388126b92338344ce9661907f253)\n"
     ]
    },
    {
     "data": {
      "application/vnd.jupyter.widget-view+json": {
       "model_id": "1eb765b5bc8740478224b1a6a48611f3",
       "version_major": 2,
       "version_minor": 0
      },
      "text/plain": [
       "  0%|          | 0/2 [00:00<?, ?it/s]"
      ]
     },
     "metadata": {},
     "output_type": "display_data"
    },
    {
     "data": {
      "application/vnd.jupyter.widget-view+json": {
       "model_id": "3ebcb1c5b23947e6b8bb361acfdb8bc2",
       "version_major": 2,
       "version_minor": 0
      },
      "text/plain": [
       "  0%|          | 0/178 [00:00<?, ?ba/s]"
      ]
     },
     "metadata": {},
     "output_type": "display_data"
    },
    {
     "data": {
      "application/vnd.jupyter.widget-view+json": {
       "model_id": "e813a7d21f13457393dbfb538c1d26ea",
       "version_major": 2,
       "version_minor": 0
      },
      "text/plain": [
       "  0%|          | 0/48 [00:00<?, ?ba/s]"
      ]
     },
     "metadata": {},
     "output_type": "display_data"
    }
   ],
   "source": [
    "dataset = load_dataset(\"ai4privacy/pii-masking-300k\")\n",
    "\n",
    "english_dataset = dataset.filter(lambda example: example['language'] == 'English')\n",
    "\n",
    "train_dataset_raw = english_dataset[\"train\"]\n",
    "valid_dataset_raw  = english_dataset[\"validation\"]"
   ]
  },
  {
   "cell_type": "code",
   "execution_count": 20,
   "id": "28427164",
   "metadata": {},
   "outputs": [
    {
     "data": {
      "text/plain": [
       "(29908, 7946, 177677)"
      ]
     },
     "execution_count": 20,
     "metadata": {},
     "output_type": "execute_result"
    }
   ],
   "source": [
    "len(train_dataset_raw), len(valid_dataset_raw), len(dataset[\"train\"])"
   ]
  },
  {
   "cell_type": "code",
   "execution_count": 15,
   "id": "9754fdc1",
   "metadata": {},
   "outputs": [],
   "source": [
    "unique_labels = []\n",
    "for labels in train_dataset_raw['span_labels']:\n",
    "    #print(labels)\n",
    "    pattern = r'\"(.*?)\"'\n",
    "    matches = re.findall(pattern, labels)\n",
    "    for l in matches:\n",
    "        #print(l)\n",
    "        if not l in unique_labels:\n",
    "            unique_labels.append(l)"
   ]
  },
  {
   "cell_type": "code",
   "execution_count": 16,
   "id": "4a73e944",
   "metadata": {},
   "outputs": [
    {
     "data": {
      "text/plain": [
       "['USERNAME',\n",
       " 'TIME',\n",
       " 'SOCIALNUMBER',\n",
       " 'EMAIL',\n",
       " 'LASTNAME2',\n",
       " 'LASTNAME1',\n",
       " 'DATE',\n",
       " 'STATE',\n",
       " 'CITY',\n",
       " 'STREET',\n",
       " 'BUILDING',\n",
       " 'COUNTRY',\n",
       " 'IDCARD',\n",
       " 'PASS',\n",
       " 'POSTCODE',\n",
       " 'PASSPORT',\n",
       " 'TEL',\n",
       " 'DRIVERLICENSE',\n",
       " 'BOD',\n",
       " 'SEX',\n",
       " 'IP',\n",
       " 'LASTNAME3',\n",
       " 'SECADDRESS',\n",
       " 'TITLE',\n",
       " 'GIVENNAME2',\n",
       " 'GIVENNAME1',\n",
       " 'GEOCOORD',\n",
       " 'CARDISSUER']"
      ]
     },
     "execution_count": 16,
     "metadata": {},
     "output_type": "execute_result"
    }
   ],
   "source": [
    "unique_labels"
   ]
  },
  {
   "cell_type": "code",
   "execution_count": 17,
   "id": "d482a427",
   "metadata": {},
   "outputs": [
    {
     "data": {
      "text/plain": [
       "28"
      ]
     },
     "execution_count": 17,
     "metadata": {},
     "output_type": "execute_result"
    }
   ],
   "source": [
    "len(unique_labels)"
   ]
  },
  {
   "cell_type": "code",
   "execution_count": 22,
   "id": "e24aa1af",
   "metadata": {},
   "outputs": [],
   "source": [
    "unique_labels_test = []\n",
    "for labels in valid_dataset_raw['span_labels']:\n",
    "    #print(labels)\n",
    "    pattern = r'\"(.*?)\"'\n",
    "    matches = re.findall(pattern, labels)\n",
    "    for l in matches:\n",
    "        #print(l)\n",
    "        if not l in unique_labels_test:\n",
    "            unique_labels_test.append(l)"
   ]
  },
  {
   "cell_type": "code",
   "execution_count": 23,
   "id": "9fa85761",
   "metadata": {},
   "outputs": [
    {
     "data": {
      "text/plain": [
       "28"
      ]
     },
     "execution_count": 23,
     "metadata": {},
     "output_type": "execute_result"
    }
   ],
   "source": [
    "len(unique_labels_test)"
   ]
  },
  {
   "cell_type": "code",
   "execution_count": 21,
   "id": "cfbdc28c",
   "metadata": {},
   "outputs": [
    {
     "data": {
      "text/plain": [
       "19"
      ]
     },
     "execution_count": 21,
     "metadata": {},
     "output_type": "execute_result"
    }
   ],
   "source": [
    "marker_categories = ['LASTNAME1', 'LASTNAME2', 'LASTNAME3', 'GIVENNAME1', 'GIVENNAME2', 'BOD', 'TIME',  'STREET', 'CITY', 'STATE', 'SEX','DATE', 'USERNAME', 'IDCARD', 'SECADDRESS', 'POSTCODE', 'TITLE', 'TEL', 'COUNTRY']  \n",
    "len(marker_categories)"
   ]
  },
  {
   "cell_type": "markdown",
   "id": "04da85c2",
   "metadata": {},
   "source": [
    "# Take 50% of validation set with only english as test"
   ]
  },
  {
   "cell_type": "code",
   "execution_count": 2,
   "id": "aecddcbe",
   "metadata": {},
   "outputs": [
    {
     "name": "stderr",
     "output_type": "stream",
     "text": [
      "Using custom data configuration ai4privacy--pii-masking-300k-507d25b4ab67b359\n",
      "Reusing dataset json (C:\\Users\\User\\.cache\\huggingface\\datasets\\ai4privacy___json\\ai4privacy--pii-masking-300k-507d25b4ab67b359\\0.0.0\\a3e658c4731e59120d44081ac10bf85dc7e1388126b92338344ce9661907f253)\n"
     ]
    },
    {
     "data": {
      "application/vnd.jupyter.widget-view+json": {
       "model_id": "c958ec0721994e54816b6b73bea1d0f7",
       "version_major": 2,
       "version_minor": 0
      },
      "text/plain": [
       "  0%|          | 0/2 [00:00<?, ?it/s]"
      ]
     },
     "metadata": {},
     "output_type": "display_data"
    },
    {
     "name": "stderr",
     "output_type": "stream",
     "text": [
      "Loading cached processed dataset at C:\\Users\\User\\.cache\\huggingface\\datasets\\ai4privacy___json\\ai4privacy--pii-masking-300k-507d25b4ab67b359\\0.0.0\\a3e658c4731e59120d44081ac10bf85dc7e1388126b92338344ce9661907f253\\cache-019dc1ae51598c0a.arrow\n",
      "Loading cached processed dataset at C:\\Users\\User\\.cache\\huggingface\\datasets\\ai4privacy___json\\ai4privacy--pii-masking-300k-507d25b4ab67b359\\0.0.0\\a3e658c4731e59120d44081ac10bf85dc7e1388126b92338344ce9661907f253\\cache-b75c20b3b7ce8a4c.arrow\n"
     ]
    }
   ],
   "source": [
    "dataset = load_dataset(\"ai4privacy/pii-masking-300k\")\n",
    "\n",
    "english_dataset = dataset.filter(lambda example: example['language'] == 'English')\n",
    "\n",
    "train_dataset_raw = english_dataset[\"train\"]\n",
    "valid_dataset_raw  = english_dataset[\"validation\"]"
   ]
  },
  {
   "cell_type": "code",
   "execution_count": 9,
   "id": "0a17388f",
   "metadata": {},
   "outputs": [
    {
     "name": "stderr",
     "output_type": "stream",
     "text": [
      "Loading cached split indices for dataset at C:\\Users\\User\\.cache\\huggingface\\datasets\\ai4privacy___json\\ai4privacy--pii-masking-300k-507d25b4ab67b359\\0.0.0\\a3e658c4731e59120d44081ac10bf85dc7e1388126b92338344ce9661907f253\\cache-a3b6fe5770a8f74e.arrow and C:\\Users\\User\\.cache\\huggingface\\datasets\\ai4privacy___json\\ai4privacy--pii-masking-300k-507d25b4ab67b359\\0.0.0\\a3e658c4731e59120d44081ac10bf85dc7e1388126b92338344ce9661907f253\\cache-edc9b94b3015f4fc.arrow\n"
     ]
    }
   ],
   "source": [
    "test_set = valid_dataset_raw.train_test_split(test_size=0.5, seed=42)['test']"
   ]
  },
  {
   "cell_type": "code",
   "execution_count": 13,
   "id": "c296db0b",
   "metadata": {},
   "outputs": [],
   "source": [
    "unique_labels_test = []\n",
    "for labels in test_set['span_labels']:\n",
    "    #print(labels)\n",
    "    pattern = r'\"(.*?)\"'\n",
    "    matches = re.findall(pattern, labels)\n",
    "    for l in matches:\n",
    "        #print(l)\n",
    "        if not l in unique_labels_test:\n",
    "            unique_labels_test.append(l)"
   ]
  },
  {
   "cell_type": "code",
   "execution_count": 15,
   "id": "b1a894b5",
   "metadata": {
    "scrolled": true
   },
   "outputs": [
    {
     "data": {
      "text/plain": [
       "(28,\n",
       " ['TIME',\n",
       "  'PASS',\n",
       "  'IP',\n",
       "  'LASTNAME1',\n",
       "  'GIVENNAME1',\n",
       "  'TITLE',\n",
       "  'BUILDING',\n",
       "  'DATE',\n",
       "  'IDCARD',\n",
       "  'USERNAME',\n",
       "  'SOCIALNUMBER',\n",
       "  'SEX',\n",
       "  'LASTNAME2',\n",
       "  'EMAIL',\n",
       "  'GIVENNAME2',\n",
       "  'DRIVERLICENSE',\n",
       "  'STATE',\n",
       "  'BOD',\n",
       "  'GEOCOORD',\n",
       "  'SECADDRESS',\n",
       "  'POSTCODE',\n",
       "  'CITY',\n",
       "  'STREET',\n",
       "  'COUNTRY',\n",
       "  'PASSPORT',\n",
       "  'TEL',\n",
       "  'LASTNAME3',\n",
       "  'CARDISSUER'])"
      ]
     },
     "execution_count": 15,
     "metadata": {},
     "output_type": "execute_result"
    }
   ],
   "source": [
    "len(unique_labels_test),unique_labels_test"
   ]
  },
  {
   "cell_type": "code",
   "execution_count": 17,
   "id": "4d7007df",
   "metadata": {},
   "outputs": [
    {
     "data": {
      "application/vnd.jupyter.widget-view+json": {
       "model_id": "a330872af07e488fbcb1717b0dcbf0c2",
       "version_major": 2,
       "version_minor": 0
      },
      "text/plain": [
       "Flattening the indices:   0%|          | 0/4 [00:00<?, ?ba/s]"
      ]
     },
     "metadata": {},
     "output_type": "display_data"
    }
   ],
   "source": [
    "test_set.save_to_disk(\"pii-masking-300k-llama2-sft/test\")"
   ]
  },
  {
   "cell_type": "markdown",
   "id": "096d38cd",
   "metadata": {},
   "source": [
    "# Remove some labels, merge some labels"
   ]
  },
  {
   "cell_type": "code",
   "execution_count": 2,
   "id": "9d3d3a8d",
   "metadata": {},
   "outputs": [
    {
     "name": "stderr",
     "output_type": "stream",
     "text": [
      "C:\\Users\\USER\\AppData\\Roaming\\Python\\Python310\\site-packages\\huggingface_hub\\file_download.py:159: UserWarning: `huggingface_hub` cache-system uses symlinks by default to efficiently store duplicated files but your machine does not support them in C:\\Users\\USER\\.cache\\huggingface\\hub\\datasets--ai4privacy--pii-masking-300k. Caching files will still work but in a degraded version that might require more space on your disk. This warning can be disabled by setting the `HF_HUB_DISABLE_SYMLINKS_WARNING` environment variable. For more details, see https://huggingface.co/docs/huggingface_hub/how-to-cache#limitations.\n",
      "To support symlinks on Windows, you either need to activate Developer Mode or to run Python as an administrator. In order to see activate developer mode, see this article: https://docs.microsoft.com/en-us/windows/apps/get-started/enable-your-device-for-development\n",
      "  warnings.warn(message)\n",
      "Generating train split: 100%|███████████████████████████████████████| 177677/177677 [00:01<00:00, 128905.73 examples/s]\n",
      "Generating validation split: 100%|████████████████████████████████████| 47728/47728 [00:00<00:00, 127926.31 examples/s]\n",
      "Filter: 100%|█████████████████████████████████████████████████████████| 177677/177677 [01:27<00:00, 2019.13 examples/s]\n",
      "Filter: 100%|███████████████████████████████████████████████████████████| 47728/47728 [00:25<00:00, 1897.75 examples/s]\n"
     ]
    }
   ],
   "source": [
    "dataset = load_dataset(\"ai4privacy/pii-masking-300k\")\n",
    "\n",
    "english_dataset = dataset.filter(lambda example: example['language'] == 'English')\n",
    "\n",
    "train_dataset_raw = english_dataset[\"train\"]\n",
    "valid_dataset_raw  = english_dataset[\"validation\"]"
   ]
  },
  {
   "cell_type": "code",
   "execution_count": 3,
   "id": "add5adeb",
   "metadata": {},
   "outputs": [
    {
     "data": {
      "text/plain": [
       "28"
      ]
     },
     "execution_count": 3,
     "metadata": {},
     "output_type": "execute_result"
    }
   ],
   "source": [
    "labels = ['TIME',\n",
    " 'USERNAME',\n",
    " 'SOCIALNUMBER',\n",
    " 'IDCARD',\n",
    " 'EMAIL',\n",
    " 'LASTNAME1',\n",
    " 'PASSPORT',\n",
    " 'DRIVERLICENSE',\n",
    " 'BOD',\n",
    " 'IP',\n",
    " 'GIVENNAME1',\n",
    " 'CITY',\n",
    " 'TITLE',\n",
    " 'SEX',\n",
    " 'STATE',\n",
    " 'POSTCODE',\n",
    " 'BUILDING',\n",
    " 'STREET',\n",
    " 'TEL',\n",
    " 'DATE',\n",
    " 'COUNTRY',\n",
    " 'PASS',\n",
    " 'SECADDRESS',\n",
    " 'LASTNAME2',\n",
    " 'GIVENNAME2',\n",
    " 'LASTNAME3',\n",
    " 'GEOCOORD',\n",
    " 'CARDISSUER']\n",
    "len(labels)"
   ]
  },
  {
   "cell_type": "code",
   "execution_count": 4,
   "id": "6d1d39eb",
   "metadata": {},
   "outputs": [],
   "source": [
    "name_labels = ['LASTNAME1', 'LASTNAME2', 'LASTNAME3', 'GIVENNAME1', 'GIVENNAME2', 'CARDISSUER']"
   ]
  },
  {
   "cell_type": "code",
   "execution_count": 5,
   "id": "f3631359",
   "metadata": {},
   "outputs": [],
   "source": [
    "IDs_label = ['SOCIALNUMBER', 'IDCARD', 'PASSPORT', 'DRIVERLICENSE',]"
   ]
  },
  {
   "cell_type": "code",
   "execution_count": 6,
   "id": "0db0d22d",
   "metadata": {},
   "outputs": [],
   "source": [
    "DATE_label = []"
   ]
  },
  {
   "cell_type": "code",
   "execution_count": 7,
   "id": "11eafc84",
   "metadata": {},
   "outputs": [],
   "source": [
    "remove_labels = ['CITY','STATE','COUNTRY', 'SEX', 'POSTCODE', 'BOD', 'DATE', 'GEOCOORD', 'BUILDING', 'TITLE', 'TIME',]"
   ]
  },
  {
   "cell_type": "code",
   "execution_count": 8,
   "id": "8d64b64d",
   "metadata": {},
   "outputs": [],
   "source": [
    "new_labels = [item for item in labels if item not in name_labels and item not in IDs_label and item not in remove_labels and item not in DATE_label]"
   ]
  },
  {
   "cell_type": "code",
   "execution_count": 9,
   "id": "40ed7379",
   "metadata": {},
   "outputs": [
    {
     "data": {
      "text/plain": [
       "7"
      ]
     },
     "execution_count": 9,
     "metadata": {},
     "output_type": "execute_result"
    }
   ],
   "source": [
    "len(new_labels)"
   ]
  },
  {
   "cell_type": "code",
   "execution_count": 10,
   "id": "174f0315",
   "metadata": {},
   "outputs": [],
   "source": [
    "def label_spans(text, labels_with_locations):\n",
    "    \"\"\"\n",
    "    Convert spans in the text to the corresponding labels.\n",
    "\n",
    "    :param text: The input text (string).\n",
    "    :param labels_with_locations: List of tuples with (start_index, end_index, label).\n",
    "                                  Example: [(0, 5, \"PERSON\"), (15, 18, \"ORG\")]\n",
    "    :return: Labeled text (string) with spans replaced by labels.\n",
    "    \"\"\"\n",
    "    # Sort the labels by start index to handle nested or overlapping spans\n",
    "    labels_with_locations.sort(key=lambda x: x[0])\n",
    "\n",
    "    labeled_text = \"\"\n",
    "    last_index = 0\n",
    "\n",
    "    for start, end, label in labels_with_locations:\n",
    "        # Append the text before the span\n",
    "        labeled_text += text[last_index:start]\n",
    "        # Append the label in place of the span\n",
    "        labeled_text += f\"[{label}]\"\n",
    "        # Update the last index to end of current span\n",
    "        last_index = end\n",
    "\n",
    "    # Append the remaining part of the text\n",
    "    labeled_text += text[last_index:]\n",
    "\n",
    "    return labeled_text"
   ]
  },
  {
   "cell_type": "code",
   "execution_count": 11,
   "id": "760c9956",
   "metadata": {},
   "outputs": [],
   "source": [
    "converted_list = ast.literal_eval(train_dataset_raw[0]['span_labels'])"
   ]
  },
  {
   "cell_type": "code",
   "execution_count": 12,
   "id": "ed0cc476",
   "metadata": {},
   "outputs": [
    {
     "data": {
      "text/plain": [
       "[[440, 453, 'USERNAME'],\n",
       " [430, 437, 'TIME'],\n",
       " [395, 416, 'USERNAME'],\n",
       " [377, 392, 'TIME'],\n",
       " [349, 363, 'USERNAME'],\n",
       " [344, 346, 'TIME'],\n",
       " [321, 330, 'USERNAME'],\n",
       " [311, 318, 'TIME'],\n",
       " [287, 297, 'USERNAME']]"
      ]
     },
     "execution_count": 12,
     "metadata": {},
     "output_type": "execute_result"
    }
   ],
   "source": [
    "converted_list"
   ]
  },
  {
   "cell_type": "code",
   "execution_count": 13,
   "id": "b05c2804",
   "metadata": {
    "scrolled": true
   },
   "outputs": [
    {
     "data": {
      "text/plain": [
       "'Subject: Group Messaging for Admissions Process\\n\\nGood morning, everyone,\\n\\nI hope this message finds you well. As we continue our admissions processes, I would like to update you on the latest developments and key information. Please find below the timeline for our upcoming meetings:\\n\\n- [USERNAME] - Meeting at [TIME]\\n- [USERNAME] - Meeting at [TIME]\\n- [USERNAME] - Meeting at [TIME]\\n- [USERNAME] - Meeting at [TIME]\\n- [USERNAME] '"
      ]
     },
     "execution_count": 13,
     "metadata": {},
     "output_type": "execute_result"
    }
   ],
   "source": [
    "label_spans(train_dataset_raw[0]['source_text'], converted_list)"
   ]
  },
  {
   "cell_type": "code",
   "execution_count": 14,
   "id": "be3db014",
   "metadata": {},
   "outputs": [
    {
     "data": {
      "text/plain": [
       "'Subject: Group Messaging for Admissions Process\\n\\nGood morning, everyone,\\n\\nI hope this message finds you well. As we continue our admissions processes, I would like to update you on the latest developments and key information. Please find below the timeline for our upcoming meetings:\\n\\n- [USERNAME] - Meeting at [TIME]\\n- [USERNAME] - Meeting at [TIME]\\n- [USERNAME] - Meeting at [TIME]\\n- [USERNAME] - Meeting at [TIME]\\n- [USERNAME] '"
      ]
     },
     "execution_count": 14,
     "metadata": {},
     "output_type": "execute_result"
    }
   ],
   "source": [
    "train_dataset_raw[0]['target_text']"
   ]
  },
  {
   "cell_type": "code",
   "execution_count": 15,
   "id": "0adc11b2",
   "metadata": {},
   "outputs": [],
   "source": [
    "new_targe_text = []\n",
    "new_span_labels_list = []\n",
    "for instance in train_dataset_raw:\n",
    "    converted_span_labels = ast.literal_eval(instance['span_labels'])\n",
    "    new_span_labels = []\n",
    "    for l in converted_span_labels:\n",
    "        if l[2] in name_labels:\n",
    "            new_span_labels.append([l[0], l[1], \"NAME\"])\n",
    "        elif l[2] in IDs_label:\n",
    "            new_span_labels.append([l[0], l[1], \"ID\"])\n",
    "        elif l[2] in DATE_label:\n",
    "            new_span_labels.append([l[0], l[1], \"DATE\"])\n",
    "        elif l[2] in new_labels:\n",
    "            new_span_labels.append([l[0], l[1], l[2]])\n",
    "            \n",
    "    new_span_labels_list.append(str(new_span_labels))\n",
    "    new_targe_text.append(label_spans(instance['source_text'], new_span_labels))"
   ]
  },
  {
   "cell_type": "code",
   "execution_count": 16,
   "id": "3f6c22d7",
   "metadata": {},
   "outputs": [
    {
     "data": {
      "text/plain": [
       "29908"
      ]
     },
     "execution_count": 16,
     "metadata": {},
     "output_type": "execute_result"
    }
   ],
   "source": [
    "len(new_targe_text)"
   ]
  },
  {
   "cell_type": "code",
   "execution_count": 17,
   "id": "7e7a1913",
   "metadata": {},
   "outputs": [
    {
     "data": {
      "text/plain": [
       "29908"
      ]
     },
     "execution_count": 17,
     "metadata": {},
     "output_type": "execute_result"
    }
   ],
   "source": [
    "len(new_span_labels_list)"
   ]
  },
  {
   "cell_type": "code",
   "execution_count": 25,
   "id": "c3ffebbe",
   "metadata": {},
   "outputs": [],
   "source": [
    "train_df = train_dataset_raw.to_pandas()"
   ]
  },
  {
   "cell_type": "code",
   "execution_count": 26,
   "id": "e4bcb661",
   "metadata": {},
   "outputs": [],
   "source": [
    "new_train_df = train_df[['source_text', 'target_text', 'span_labels', 'id']]"
   ]
  },
  {
   "cell_type": "code",
   "execution_count": 27,
   "id": "340b2059",
   "metadata": {},
   "outputs": [
    {
     "data": {
      "text/html": [
       "<div>\n",
       "<style scoped>\n",
       "    .dataframe tbody tr th:only-of-type {\n",
       "        vertical-align: middle;\n",
       "    }\n",
       "\n",
       "    .dataframe tbody tr th {\n",
       "        vertical-align: top;\n",
       "    }\n",
       "\n",
       "    .dataframe thead th {\n",
       "        text-align: right;\n",
       "    }\n",
       "</style>\n",
       "<table border=\"1\" class=\"dataframe\">\n",
       "  <thead>\n",
       "    <tr style=\"text-align: right;\">\n",
       "      <th></th>\n",
       "      <th>source_text</th>\n",
       "      <th>target_text</th>\n",
       "      <th>span_labels</th>\n",
       "      <th>id</th>\n",
       "    </tr>\n",
       "  </thead>\n",
       "  <tbody>\n",
       "    <tr>\n",
       "      <th>0</th>\n",
       "      <td>Subject: Group Messaging for Admissions Proces...</td>\n",
       "      <td>Subject: Group Messaging for Admissions Proces...</td>\n",
       "      <td>[[440, 453, \"USERNAME\"], [430, 437, \"TIME\"], [...</td>\n",
       "      <td>40767A</td>\n",
       "    </tr>\n",
       "    <tr>\n",
       "      <th>1</th>\n",
       "      <td>- Meeting at 2:33 PM\\n- N23 - Meeting at 11:29...</td>\n",
       "      <td>- Meeting at [TIME]\\n- [USERNAME] - Meeting at...</td>\n",
       "      <td>[[74, 81, \"TIME\"], [50, 60, \"USERNAME\"], [40, ...</td>\n",
       "      <td>40767B</td>\n",
       "    </tr>\n",
       "    <tr>\n",
       "      <th>2</th>\n",
       "      <td>Subject: Admission Notification - Great Britai...</td>\n",
       "      <td>Subject: Admission Notification - Great Britai...</td>\n",
       "      <td>[[395, 407, \"SOCIALNUMBER\"], [358, 375, \"EMAIL...</td>\n",
       "      <td>40768A</td>\n",
       "    </tr>\n",
       "    <tr>\n",
       "      <th>3</th>\n",
       "      <td>Card: KB90324ER\\n   Country: GB\\n   Building: ...</td>\n",
       "      <td>Card: [IDCARD]\\n   Country: [COUNTRY]\\n   Buil...</td>\n",
       "      <td>[[390, 393, \"STATE\"], [368, 378, \"CITY\"], [346...</td>\n",
       "      <td>40768B</td>\n",
       "    </tr>\n",
       "    <tr>\n",
       "      <th>4</th>\n",
       "      <td>N, WA14 5RW\\n   Password: r]iD1#8\\n\\n...and so...</td>\n",
       "      <td>N, WA14 5RW\\n   Password: [PASS]\\n\\n...and so ...</td>\n",
       "      <td>[[336, 352, \"DATE\"], [26, 33, \"PASS\"]]</td>\n",
       "      <td>40768C</td>\n",
       "    </tr>\n",
       "    <tr>\n",
       "      <th>...</th>\n",
       "      <td>...</td>\n",
       "      <td>...</td>\n",
       "      <td>...</td>\n",
       "      <td>...</td>\n",
       "    </tr>\n",
       "    <tr>\n",
       "      <th>29903</th>\n",
       "      <td>e of Birth: [18/01/1962]\\n   - Passport Number...</td>\n",
       "      <td>e of Birth: [[BOD]]\\n   - Passport Number: [[P...</td>\n",
       "      <td>[[379, 384, \"POSTCODE\"], [360, 361, \"TIME\"], [...</td>\n",
       "      <td>53616B</td>\n",
       "    </tr>\n",
       "    <tr>\n",
       "      <th>29904</th>\n",
       "      <td>2022, in New York City. The assessment include...</td>\n",
       "      <td>2022, in New York City. The assessment include...</td>\n",
       "      <td>[]</td>\n",
       "      <td>53616C</td>\n",
       "    </tr>\n",
       "    <tr>\n",
       "      <th>29905</th>\n",
       "      <td>Art Therapy Code of Ethics:\\n\\nNotice to all a...</td>\n",
       "      <td>Art Therapy Code of Ethics:\\n\\nNotice to all a...</td>\n",
       "      <td>[[410, 419, \"IDCARD\"]]</td>\n",
       "      <td>53617A</td>\n",
       "    </tr>\n",
       "    <tr>\n",
       "      <th>29906</th>\n",
       "      <td>72330716, 8015553273660, N60324048, 743010413,...</td>\n",
       "      <td>72330716, [IDCARD], [IDCARD], [IDCARD], [IDCAR...</td>\n",
       "      <td>[[380, 397, \"TEL\"], [363, 378, \"TEL\"], [350, 3...</td>\n",
       "      <td>53617B</td>\n",
       "    </tr>\n",
       "    <tr>\n",
       "      <th>29907</th>\n",
       "      <td>autonomy of each client, providing them with ...</td>\n",
       "      <td>autonomy of each client, providing them with ...</td>\n",
       "      <td>[[94, 99, \"TIME\"]]</td>\n",
       "      <td>53617C</td>\n",
       "    </tr>\n",
       "  </tbody>\n",
       "</table>\n",
       "<p>29908 rows × 4 columns</p>\n",
       "</div>"
      ],
      "text/plain": [
       "                                             source_text  \\\n",
       "0      Subject: Group Messaging for Admissions Proces...   \n",
       "1      - Meeting at 2:33 PM\\n- N23 - Meeting at 11:29...   \n",
       "2      Subject: Admission Notification - Great Britai...   \n",
       "3      Card: KB90324ER\\n   Country: GB\\n   Building: ...   \n",
       "4      N, WA14 5RW\\n   Password: r]iD1#8\\n\\n...and so...   \n",
       "...                                                  ...   \n",
       "29903  e of Birth: [18/01/1962]\\n   - Passport Number...   \n",
       "29904  2022, in New York City. The assessment include...   \n",
       "29905  Art Therapy Code of Ethics:\\n\\nNotice to all a...   \n",
       "29906  72330716, 8015553273660, N60324048, 743010413,...   \n",
       "29907   autonomy of each client, providing them with ...   \n",
       "\n",
       "                                             target_text  \\\n",
       "0      Subject: Group Messaging for Admissions Proces...   \n",
       "1      - Meeting at [TIME]\\n- [USERNAME] - Meeting at...   \n",
       "2      Subject: Admission Notification - Great Britai...   \n",
       "3      Card: [IDCARD]\\n   Country: [COUNTRY]\\n   Buil...   \n",
       "4      N, WA14 5RW\\n   Password: [PASS]\\n\\n...and so ...   \n",
       "...                                                  ...   \n",
       "29903  e of Birth: [[BOD]]\\n   - Passport Number: [[P...   \n",
       "29904  2022, in New York City. The assessment include...   \n",
       "29905  Art Therapy Code of Ethics:\\n\\nNotice to all a...   \n",
       "29906  72330716, [IDCARD], [IDCARD], [IDCARD], [IDCAR...   \n",
       "29907   autonomy of each client, providing them with ...   \n",
       "\n",
       "                                             span_labels      id  \n",
       "0      [[440, 453, \"USERNAME\"], [430, 437, \"TIME\"], [...  40767A  \n",
       "1      [[74, 81, \"TIME\"], [50, 60, \"USERNAME\"], [40, ...  40767B  \n",
       "2      [[395, 407, \"SOCIALNUMBER\"], [358, 375, \"EMAIL...  40768A  \n",
       "3      [[390, 393, \"STATE\"], [368, 378, \"CITY\"], [346...  40768B  \n",
       "4                 [[336, 352, \"DATE\"], [26, 33, \"PASS\"]]  40768C  \n",
       "...                                                  ...     ...  \n",
       "29903  [[379, 384, \"POSTCODE\"], [360, 361, \"TIME\"], [...  53616B  \n",
       "29904                                                 []  53616C  \n",
       "29905                             [[410, 419, \"IDCARD\"]]  53617A  \n",
       "29906  [[380, 397, \"TEL\"], [363, 378, \"TEL\"], [350, 3...  53617B  \n",
       "29907                                 [[94, 99, \"TIME\"]]  53617C  \n",
       "\n",
       "[29908 rows x 4 columns]"
      ]
     },
     "execution_count": 27,
     "metadata": {},
     "output_type": "execute_result"
    }
   ],
   "source": [
    "train_df[['source_text', 'target_text', 'span_labels', 'id']]"
   ]
  },
  {
   "cell_type": "code",
   "execution_count": 28,
   "id": "868bfc40",
   "metadata": {},
   "outputs": [
    {
     "name": "stderr",
     "output_type": "stream",
     "text": [
      "C:\\Users\\USER\\AppData\\Local\\Temp\\ipykernel_66024\\2892181375.py:1: SettingWithCopyWarning: \n",
      "A value is trying to be set on a copy of a slice from a DataFrame.\n",
      "Try using .loc[row_indexer,col_indexer] = value instead\n",
      "\n",
      "See the caveats in the documentation: https://pandas.pydata.org/pandas-docs/stable/user_guide/indexing.html#returning-a-view-versus-a-copy\n",
      "  new_train_df['target_text'] = new_targe_text\n",
      "C:\\Users\\USER\\AppData\\Local\\Temp\\ipykernel_66024\\2892181375.py:2: SettingWithCopyWarning: \n",
      "A value is trying to be set on a copy of a slice from a DataFrame.\n",
      "Try using .loc[row_indexer,col_indexer] = value instead\n",
      "\n",
      "See the caveats in the documentation: https://pandas.pydata.org/pandas-docs/stable/user_guide/indexing.html#returning-a-view-versus-a-copy\n",
      "  new_train_df['span_labels'] = new_span_labels_list\n"
     ]
    }
   ],
   "source": [
    "new_train_df['target_text'] = new_targe_text\n",
    "new_train_df['span_labels'] = new_span_labels_list"
   ]
  },
  {
   "cell_type": "code",
   "execution_count": 29,
   "id": "695737dc",
   "metadata": {},
   "outputs": [
    {
     "data": {
      "text/html": [
       "<div>\n",
       "<style scoped>\n",
       "    .dataframe tbody tr th:only-of-type {\n",
       "        vertical-align: middle;\n",
       "    }\n",
       "\n",
       "    .dataframe tbody tr th {\n",
       "        vertical-align: top;\n",
       "    }\n",
       "\n",
       "    .dataframe thead th {\n",
       "        text-align: right;\n",
       "    }\n",
       "</style>\n",
       "<table border=\"1\" class=\"dataframe\">\n",
       "  <thead>\n",
       "    <tr style=\"text-align: right;\">\n",
       "      <th></th>\n",
       "      <th>source_text</th>\n",
       "      <th>target_text</th>\n",
       "      <th>span_labels</th>\n",
       "      <th>id</th>\n",
       "    </tr>\n",
       "  </thead>\n",
       "  <tbody>\n",
       "    <tr>\n",
       "      <th>0</th>\n",
       "      <td>Subject: Group Messaging for Admissions Proces...</td>\n",
       "      <td>Subject: Group Messaging for Admissions Proces...</td>\n",
       "      <td>[[440, 453, 'USERNAME'], [395, 416, 'USERNAME'...</td>\n",
       "      <td>40767A</td>\n",
       "    </tr>\n",
       "    <tr>\n",
       "      <th>1</th>\n",
       "      <td>- Meeting at 2:33 PM\\n- N23 - Meeting at 11:29...</td>\n",
       "      <td>- Meeting at 2:33 PM\\n- [USERNAME] - Meeting a...</td>\n",
       "      <td>[[50, 60, 'USERNAME'], [23, 26, 'USERNAME']]</td>\n",
       "      <td>40767B</td>\n",
       "    </tr>\n",
       "    <tr>\n",
       "      <th>2</th>\n",
       "      <td>Subject: Admission Notification - Great Britai...</td>\n",
       "      <td>Subject: Admission Notification - Great Britai...</td>\n",
       "      <td>[[395, 407, 'ID'], [358, 375, 'EMAIL'], [339, ...</td>\n",
       "      <td>40768A</td>\n",
       "    </tr>\n",
       "    <tr>\n",
       "      <th>3</th>\n",
       "      <td>Card: KB90324ER\\n   Country: GB\\n   Building: ...</td>\n",
       "      <td>Card: [ID]\\n   Country: GB\\n   Building: 163\\n...</td>\n",
       "      <td>[[346, 357, 'STREET'], [278, 287, 'ID'], [252,...</td>\n",
       "      <td>40768B</td>\n",
       "    </tr>\n",
       "    <tr>\n",
       "      <th>4</th>\n",
       "      <td>N, WA14 5RW\\n   Password: r]iD1#8\\n\\n...and so...</td>\n",
       "      <td>N, WA14 5RW\\n   Password: [PASS]\\n\\n...and so ...</td>\n",
       "      <td>[[26, 33, 'PASS']]</td>\n",
       "      <td>40768C</td>\n",
       "    </tr>\n",
       "    <tr>\n",
       "      <th>...</th>\n",
       "      <td>...</td>\n",
       "      <td>...</td>\n",
       "      <td>...</td>\n",
       "      <td>...</td>\n",
       "    </tr>\n",
       "    <tr>\n",
       "      <th>29903</th>\n",
       "      <td>e of Birth: [18/01/1962]\\n   - Passport Number...</td>\n",
       "      <td>e of Birth: [18/01/1962]\\n   - Passport Number...</td>\n",
       "      <td>[[301, 310, 'ID'], [217, 226, 'ID'], [125, 134...</td>\n",
       "      <td>53616B</td>\n",
       "    </tr>\n",
       "    <tr>\n",
       "      <th>29904</th>\n",
       "      <td>2022, in New York City. The assessment include...</td>\n",
       "      <td>2022, in New York City. The assessment include...</td>\n",
       "      <td>[]</td>\n",
       "      <td>53616C</td>\n",
       "    </tr>\n",
       "    <tr>\n",
       "      <th>29905</th>\n",
       "      <td>Art Therapy Code of Ethics:\\n\\nNotice to all a...</td>\n",
       "      <td>Art Therapy Code of Ethics:\\n\\nNotice to all a...</td>\n",
       "      <td>[[410, 419, 'ID']]</td>\n",
       "      <td>53617A</td>\n",
       "    </tr>\n",
       "    <tr>\n",
       "      <th>29906</th>\n",
       "      <td>72330716, 8015553273660, N60324048, 743010413,...</td>\n",
       "      <td>72330716, [ID], [ID], [ID], [ID], [ID], [ID], ...</td>\n",
       "      <td>[[380, 397, 'TEL'], [363, 378, 'TEL'], [350, 3...</td>\n",
       "      <td>53617B</td>\n",
       "    </tr>\n",
       "    <tr>\n",
       "      <th>29907</th>\n",
       "      <td>autonomy of each client, providing them with ...</td>\n",
       "      <td>autonomy of each client, providing them with ...</td>\n",
       "      <td>[]</td>\n",
       "      <td>53617C</td>\n",
       "    </tr>\n",
       "  </tbody>\n",
       "</table>\n",
       "<p>29908 rows × 4 columns</p>\n",
       "</div>"
      ],
      "text/plain": [
       "                                             source_text  \\\n",
       "0      Subject: Group Messaging for Admissions Proces...   \n",
       "1      - Meeting at 2:33 PM\\n- N23 - Meeting at 11:29...   \n",
       "2      Subject: Admission Notification - Great Britai...   \n",
       "3      Card: KB90324ER\\n   Country: GB\\n   Building: ...   \n",
       "4      N, WA14 5RW\\n   Password: r]iD1#8\\n\\n...and so...   \n",
       "...                                                  ...   \n",
       "29903  e of Birth: [18/01/1962]\\n   - Passport Number...   \n",
       "29904  2022, in New York City. The assessment include...   \n",
       "29905  Art Therapy Code of Ethics:\\n\\nNotice to all a...   \n",
       "29906  72330716, 8015553273660, N60324048, 743010413,...   \n",
       "29907   autonomy of each client, providing them with ...   \n",
       "\n",
       "                                             target_text  \\\n",
       "0      Subject: Group Messaging for Admissions Proces...   \n",
       "1      - Meeting at 2:33 PM\\n- [USERNAME] - Meeting a...   \n",
       "2      Subject: Admission Notification - Great Britai...   \n",
       "3      Card: [ID]\\n   Country: GB\\n   Building: 163\\n...   \n",
       "4      N, WA14 5RW\\n   Password: [PASS]\\n\\n...and so ...   \n",
       "...                                                  ...   \n",
       "29903  e of Birth: [18/01/1962]\\n   - Passport Number...   \n",
       "29904  2022, in New York City. The assessment include...   \n",
       "29905  Art Therapy Code of Ethics:\\n\\nNotice to all a...   \n",
       "29906  72330716, [ID], [ID], [ID], [ID], [ID], [ID], ...   \n",
       "29907   autonomy of each client, providing them with ...   \n",
       "\n",
       "                                             span_labels      id  \n",
       "0      [[440, 453, 'USERNAME'], [395, 416, 'USERNAME'...  40767A  \n",
       "1           [[50, 60, 'USERNAME'], [23, 26, 'USERNAME']]  40767B  \n",
       "2      [[395, 407, 'ID'], [358, 375, 'EMAIL'], [339, ...  40768A  \n",
       "3      [[346, 357, 'STREET'], [278, 287, 'ID'], [252,...  40768B  \n",
       "4                                     [[26, 33, 'PASS']]  40768C  \n",
       "...                                                  ...     ...  \n",
       "29903  [[301, 310, 'ID'], [217, 226, 'ID'], [125, 134...  53616B  \n",
       "29904                                                 []  53616C  \n",
       "29905                                 [[410, 419, 'ID']]  53617A  \n",
       "29906  [[380, 397, 'TEL'], [363, 378, 'TEL'], [350, 3...  53617B  \n",
       "29907                                                 []  53617C  \n",
       "\n",
       "[29908 rows x 4 columns]"
      ]
     },
     "execution_count": 29,
     "metadata": {},
     "output_type": "execute_result"
    }
   ],
   "source": [
    "new_train_df"
   ]
  },
  {
   "cell_type": "code",
   "execution_count": 30,
   "id": "e6b343c1",
   "metadata": {},
   "outputs": [],
   "source": [
    "new_train_dataset = Dataset.from_pandas(new_train_df)"
   ]
  },
  {
   "cell_type": "code",
   "execution_count": 31,
   "id": "c3de8733",
   "metadata": {},
   "outputs": [],
   "source": [
    "new_train_dataset = new_train_dataset.train_test_split(test_size=0.3, seed=42)"
   ]
  },
  {
   "cell_type": "code",
   "execution_count": 32,
   "id": "22e6eacb",
   "metadata": {},
   "outputs": [
    {
     "name": "stderr",
     "output_type": "stream",
     "text": [
      "Saving the dataset (1/1 shards): 100%|████████████████████████████████| 20935/20935 [00:00<00:00, 188251.72 examples/s]\n",
      "Saving the dataset (1/1 shards): 100%|██████████████████████████████████| 8973/8973 [00:00<00:00, 182796.82 examples/s]\n"
     ]
    }
   ],
   "source": [
    "new_train_dataset.save_to_disk(\"pii-masking-300k-with-new-labels-v2/train\")"
   ]
  },
  {
   "cell_type": "code",
   "execution_count": 33,
   "id": "c7670d0f",
   "metadata": {},
   "outputs": [],
   "source": [
    "new_targe_text = []\n",
    "new_span_labels_list = []\n",
    "for instance in valid_dataset_raw:\n",
    "    converted_span_labels = ast.literal_eval(instance['span_labels'])\n",
    "    new_span_labels = []\n",
    "    for l in converted_span_labels:\n",
    "        if l[2] in name_labels:\n",
    "            new_span_labels.append([l[0], l[1], \"NAME\"])\n",
    "        elif l[2] in IDs_label:\n",
    "            new_span_labels.append([l[0], l[1], \"ID\"])\n",
    "        elif l[2] in DATE_label:\n",
    "            new_span_labels.append([l[0], l[1], \"DATE\"])\n",
    "        elif l[2] in new_labels:\n",
    "            new_span_labels.append([l[0], l[1], l[2]])\n",
    "    new_span_labels_list.append(str(new_span_labels))\n",
    "    new_targe_text.append(label_spans(instance['source_text'], new_span_labels))"
   ]
  },
  {
   "cell_type": "code",
   "execution_count": 34,
   "id": "61ec8067",
   "metadata": {},
   "outputs": [],
   "source": [
    "test_df = valid_dataset_raw.to_pandas()\n",
    "new_test_df = test_df[['source_text', 'target_text', 'span_labels', 'id']]"
   ]
  },
  {
   "cell_type": "code",
   "execution_count": 35,
   "id": "500400f4",
   "metadata": {},
   "outputs": [
    {
     "data": {
      "text/html": [
       "<div>\n",
       "<style scoped>\n",
       "    .dataframe tbody tr th:only-of-type {\n",
       "        vertical-align: middle;\n",
       "    }\n",
       "\n",
       "    .dataframe tbody tr th {\n",
       "        vertical-align: top;\n",
       "    }\n",
       "\n",
       "    .dataframe thead th {\n",
       "        text-align: right;\n",
       "    }\n",
       "</style>\n",
       "<table border=\"1\" class=\"dataframe\">\n",
       "  <thead>\n",
       "    <tr style=\"text-align: right;\">\n",
       "      <th></th>\n",
       "      <th>source_text</th>\n",
       "      <th>target_text</th>\n",
       "      <th>span_labels</th>\n",
       "      <th>id</th>\n",
       "    </tr>\n",
       "  </thead>\n",
       "  <tbody>\n",
       "    <tr>\n",
       "      <th>0</th>\n",
       "      <td>On the video sharing platform for educational ...</td>\n",
       "      <td>On the video sharing platform for educational ...</td>\n",
       "      <td>[[316, 320, \"USERNAME\"], [254, 272, \"USERNAME\"...</td>\n",
       "      <td>40770A</td>\n",
       "    </tr>\n",
       "    <tr>\n",
       "      <th>1</th>\n",
       "      <td>d wsfdkmi9214 shared personal experiences rela...</td>\n",
       "      <td>d [USERNAME] shared personal experiences relat...</td>\n",
       "      <td>[[355, 356, \"USERNAME\"], [339, 350, \"USERNAME\"...</td>\n",
       "      <td>40770B</td>\n",
       "    </tr>\n",
       "    <tr>\n",
       "      <th>2</th>\n",
       "      <td>ach other respectfully in their comments. yega...</td>\n",
       "      <td>ach other respectfully in their comments. [USE...</td>\n",
       "      <td>[[339, 344, \"TIME\"], [61, 74, \"USERNAME\"], [42...</td>\n",
       "      <td>40770C</td>\n",
       "    </tr>\n",
       "    <tr>\n",
       "      <th>3</th>\n",
       "      <td>{\\n  \"Guidelines\": {\\n    \"maximumAge\": \"May 5...</td>\n",
       "      <td>{\\n  \"Guidelines\": {\\n    \"maximumAge\": \"[BOD]...</td>\n",
       "      <td>[[432, 441, \"IDCARD\"], [391, 400, \"IDCARD\"], [...</td>\n",
       "      <td>40771</td>\n",
       "    </tr>\n",
       "    <tr>\n",
       "      <th>4</th>\n",
       "      <td>Subject: Collaboration Opportunity in Online C...</td>\n",
       "      <td>Subject: Collaboration Opportunity in Online C...</td>\n",
       "      <td>[]</td>\n",
       "      <td>40779A</td>\n",
       "    </tr>\n",
       "    <tr>\n",
       "      <th>...</th>\n",
       "      <td>...</td>\n",
       "      <td>...</td>\n",
       "      <td>...</td>\n",
       "      <td>...</td>\n",
       "    </tr>\n",
       "    <tr>\n",
       "      <th>7941</th>\n",
       "      <td>ategies.\\n\\n---\\n\\nThank you for participating...</td>\n",
       "      <td>ategies.\\n\\n---\\n\\nThank you for participating...</td>\n",
       "      <td>[[354, 365, \"TITLE\"], [210, 233, \"EMAIL\"], [16...</td>\n",
       "      <td>53607D</td>\n",
       "    </tr>\n",
       "    <tr>\n",
       "      <th>7942</th>\n",
       "      <td>**Art Therapy Informed Consent Form**\\n\\n**Cli...</td>\n",
       "      <td>**Art Therapy Informed Consent Form**\\n\\n**Cli...</td>\n",
       "      <td>[[134, 144, \"DRIVERLICENSE\"], [72, 101, \"EMAIL\"]]</td>\n",
       "      <td>53610A</td>\n",
       "    </tr>\n",
       "    <tr>\n",
       "      <th>7943</th>\n",
       "      <td>sonal growth and insight.\\n\\n**Limitations of ...</td>\n",
       "      <td>sonal growth and insight.\\n\\n**Limitations of ...</td>\n",
       "      <td>[]</td>\n",
       "      <td>53610B</td>\n",
       "    </tr>\n",
       "    <tr>\n",
       "      <th>7944</th>\n",
       "      <td>```yaml\\nArt_Therapy_Confidentiality_Waiver:\\n...</td>\n",
       "      <td>```yaml\\nArt_Therapy_Confidentiality_Waiver:\\n...</td>\n",
       "      <td>[[291, 301, \"BOD\"]]</td>\n",
       "      <td>53614A</td>\n",
       "    </tr>\n",
       "    <tr>\n",
       "      <th>7945</th>\n",
       "      <td>\"50waddington\"\\n          Social_Security_Num...</td>\n",
       "      <td>\"[USERNAME]\"\\n          Social_Security_Numbe...</td>\n",
       "      <td>[[308, 317, \"TIME\"], [256, 266, \"LASTNAME1\"], ...</td>\n",
       "      <td>53614B</td>\n",
       "    </tr>\n",
       "  </tbody>\n",
       "</table>\n",
       "<p>7946 rows × 4 columns</p>\n",
       "</div>"
      ],
      "text/plain": [
       "                                            source_text  \\\n",
       "0     On the video sharing platform for educational ...   \n",
       "1     d wsfdkmi9214 shared personal experiences rela...   \n",
       "2     ach other respectfully in their comments. yega...   \n",
       "3     {\\n  \"Guidelines\": {\\n    \"maximumAge\": \"May 5...   \n",
       "4     Subject: Collaboration Opportunity in Online C...   \n",
       "...                                                 ...   \n",
       "7941  ategies.\\n\\n---\\n\\nThank you for participating...   \n",
       "7942  **Art Therapy Informed Consent Form**\\n\\n**Cli...   \n",
       "7943  sonal growth and insight.\\n\\n**Limitations of ...   \n",
       "7944  ```yaml\\nArt_Therapy_Confidentiality_Waiver:\\n...   \n",
       "7945   \"50waddington\"\\n          Social_Security_Num...   \n",
       "\n",
       "                                            target_text  \\\n",
       "0     On the video sharing platform for educational ...   \n",
       "1     d [USERNAME] shared personal experiences relat...   \n",
       "2     ach other respectfully in their comments. [USE...   \n",
       "3     {\\n  \"Guidelines\": {\\n    \"maximumAge\": \"[BOD]...   \n",
       "4     Subject: Collaboration Opportunity in Online C...   \n",
       "...                                                 ...   \n",
       "7941  ategies.\\n\\n---\\n\\nThank you for participating...   \n",
       "7942  **Art Therapy Informed Consent Form**\\n\\n**Cli...   \n",
       "7943  sonal growth and insight.\\n\\n**Limitations of ...   \n",
       "7944  ```yaml\\nArt_Therapy_Confidentiality_Waiver:\\n...   \n",
       "7945   \"[USERNAME]\"\\n          Social_Security_Numbe...   \n",
       "\n",
       "                                            span_labels      id  \n",
       "0     [[316, 320, \"USERNAME\"], [254, 272, \"USERNAME\"...  40770A  \n",
       "1     [[355, 356, \"USERNAME\"], [339, 350, \"USERNAME\"...  40770B  \n",
       "2     [[339, 344, \"TIME\"], [61, 74, \"USERNAME\"], [42...  40770C  \n",
       "3     [[432, 441, \"IDCARD\"], [391, 400, \"IDCARD\"], [...   40771  \n",
       "4                                                    []  40779A  \n",
       "...                                                 ...     ...  \n",
       "7941  [[354, 365, \"TITLE\"], [210, 233, \"EMAIL\"], [16...  53607D  \n",
       "7942  [[134, 144, \"DRIVERLICENSE\"], [72, 101, \"EMAIL\"]]  53610A  \n",
       "7943                                                 []  53610B  \n",
       "7944                                [[291, 301, \"BOD\"]]  53614A  \n",
       "7945  [[308, 317, \"TIME\"], [256, 266, \"LASTNAME1\"], ...  53614B  \n",
       "\n",
       "[7946 rows x 4 columns]"
      ]
     },
     "execution_count": 35,
     "metadata": {},
     "output_type": "execute_result"
    }
   ],
   "source": [
    "test_df[['source_text', 'target_text', 'span_labels', 'id']]"
   ]
  },
  {
   "cell_type": "code",
   "execution_count": 36,
   "id": "04819f5a",
   "metadata": {},
   "outputs": [
    {
     "name": "stderr",
     "output_type": "stream",
     "text": [
      "C:\\Users\\USER\\AppData\\Local\\Temp\\ipykernel_66024\\2992013001.py:1: SettingWithCopyWarning: \n",
      "A value is trying to be set on a copy of a slice from a DataFrame.\n",
      "Try using .loc[row_indexer,col_indexer] = value instead\n",
      "\n",
      "See the caveats in the documentation: https://pandas.pydata.org/pandas-docs/stable/user_guide/indexing.html#returning-a-view-versus-a-copy\n",
      "  new_test_df['target_text'] = new_targe_text\n",
      "C:\\Users\\USER\\AppData\\Local\\Temp\\ipykernel_66024\\2992013001.py:2: SettingWithCopyWarning: \n",
      "A value is trying to be set on a copy of a slice from a DataFrame.\n",
      "Try using .loc[row_indexer,col_indexer] = value instead\n",
      "\n",
      "See the caveats in the documentation: https://pandas.pydata.org/pandas-docs/stable/user_guide/indexing.html#returning-a-view-versus-a-copy\n",
      "  new_test_df['span_labels'] = new_span_labels_list\n"
     ]
    }
   ],
   "source": [
    "new_test_df['target_text'] = new_targe_text\n",
    "new_test_df['span_labels'] = new_span_labels_list"
   ]
  },
  {
   "cell_type": "code",
   "execution_count": 37,
   "id": "b9ad4b1a",
   "metadata": {},
   "outputs": [],
   "source": [
    "new_test_dataset = Dataset.from_pandas(new_test_df)"
   ]
  },
  {
   "cell_type": "code",
   "execution_count": 38,
   "id": "735555f8",
   "metadata": {},
   "outputs": [],
   "source": [
    "new_test_dataset = new_test_dataset.train_test_split(test_size=0.5, seed=42)['test']"
   ]
  },
  {
   "cell_type": "code",
   "execution_count": 39,
   "id": "9da86abd",
   "metadata": {},
   "outputs": [
    {
     "name": "stderr",
     "output_type": "stream",
     "text": [
      "Saving the dataset (1/1 shards): 100%|██████████████████████████████████| 3973/3973 [00:00<00:00, 141632.98 examples/s]\n"
     ]
    }
   ],
   "source": [
    "new_test_dataset.save_to_disk(\"pii-masking-300k-with-new-labels-v2/test\")"
   ]
  },
  {
   "cell_type": "markdown",
   "id": "1a7f2e71",
   "metadata": {},
   "source": [
    "# Statistics of Dataset with New Labels"
   ]
  },
  {
   "cell_type": "code",
   "execution_count": 33,
   "id": "8160dd53",
   "metadata": {},
   "outputs": [],
   "source": [
    "train_set = load_from_disk(\"pii-masking-300k-with-new-labels/train\")\n",
    "test_set = load_from_disk(\"pii-masking-300k-with-new-labels/test\")"
   ]
  },
  {
   "cell_type": "code",
   "execution_count": 34,
   "id": "f4b6d47f",
   "metadata": {},
   "outputs": [
    {
     "data": {
      "text/plain": [
       "DatasetDict({\n",
       "    train: Dataset({\n",
       "        features: ['source_text', 'target_text', 'span_labels', 'id'],\n",
       "        num_rows: 20935\n",
       "    })\n",
       "    test: Dataset({\n",
       "        features: ['source_text', 'target_text', 'span_labels', 'id'],\n",
       "        num_rows: 8973\n",
       "    })\n",
       "})"
      ]
     },
     "execution_count": 34,
     "metadata": {},
     "output_type": "execute_result"
    }
   ],
   "source": [
    "train_set"
   ]
  },
  {
   "cell_type": "code",
   "execution_count": 35,
   "id": "b52b00dc",
   "metadata": {},
   "outputs": [
    {
     "data": {
      "text/plain": [
       "Dataset({\n",
       "    features: ['source_text', 'target_text', 'span_labels', 'id'],\n",
       "    num_rows: 3973\n",
       "})"
      ]
     },
     "execution_count": 35,
     "metadata": {},
     "output_type": "execute_result"
    }
   ],
   "source": [
    "test_set"
   ]
  },
  {
   "cell_type": "code",
   "execution_count": 36,
   "id": "a37598ba",
   "metadata": {},
   "outputs": [
    {
     "name": "stdout",
     "output_type": "stream",
     "text": [
      "{'SECADDRESS': 2207, 'STREET': 5069, 'BUILDING': 5127, 'TEL': 5019, 'ID': 25877, 'EMAIL': 6719, 'USERNAME': 7757, 'NAME': 15333, 'TITLE': 5288, 'TIME': 10210, 'DATE': 10617, 'IP': 5755, 'PASS': 3992, 'GEOCOORD': 499}\n"
     ]
    }
   ],
   "source": [
    "train_label_counts = {}\n",
    "for row in train_set['train']:\n",
    "    labels = ast.literal_eval(row['span_labels'])\n",
    "    for l in labels:\n",
    "        if not l[2] in train_label_counts.keys():\n",
    "            train_label_counts.update({l[2]:1})\n",
    "        else:\n",
    "            train_label_counts[l[2]] += 1\n",
    "print(train_label_counts)"
   ]
  },
  {
   "cell_type": "code",
   "execution_count": 37,
   "id": "07886a4c",
   "metadata": {},
   "outputs": [
    {
     "name": "stdout",
     "output_type": "stream",
     "text": [
      "{'ID': 11049, 'EMAIL': 3040, 'DATE': 4624, 'PASS': 1645, 'STREET': 2290, 'BUILDING': 2256, 'NAME': 6744, 'TITLE': 2272, 'TIME': 4466, 'IP': 2390, 'USERNAME': 3358, 'GEOCOORD': 204, 'TEL': 2293, 'SECADDRESS': 910}\n"
     ]
    }
   ],
   "source": [
    "val_label_counts = {}\n",
    "for row in train_set['test']:\n",
    "    labels = ast.literal_eval(row['span_labels'])\n",
    "    for l in labels:\n",
    "        if not l[2] in val_label_counts.keys():\n",
    "            val_label_counts.update({l[2]:1})\n",
    "        else:\n",
    "            val_label_counts[l[2]] += 1\n",
    "print(val_label_counts)"
   ]
  },
  {
   "cell_type": "code",
   "execution_count": 38,
   "id": "9320f91a",
   "metadata": {},
   "outputs": [
    {
     "name": "stdout",
     "output_type": "stream",
     "text": [
      "{'TIME': 1890, 'PASS': 816, 'IP': 1120, 'NAME': 2950, 'TITLE': 969, 'BUILDING': 956, 'DATE': 2033, 'ID': 4970, 'USERNAME': 1453, 'EMAIL': 1340, 'GEOCOORD': 112, 'SECADDRESS': 417, 'STREET': 939, 'TEL': 960}\n"
     ]
    }
   ],
   "source": [
    "test_label_counts = {}\n",
    "for row in test_set:\n",
    "    labels = ast.literal_eval(row['span_labels'])\n",
    "    for l in labels:\n",
    "        if not l[2] in test_label_counts.keys():\n",
    "            test_label_counts.update({l[2]:1})\n",
    "        else:\n",
    "            test_label_counts[l[2]] += 1\n",
    "print(test_label_counts)"
   ]
  },
  {
   "cell_type": "code",
   "execution_count": 39,
   "id": "c2e5b409",
   "metadata": {},
   "outputs": [
    {
     "data": {
      "image/png": "[encoded data removed]",
      "text/plain": [
       "<Figure size 1152x576 with 1 Axes>"
      ]
     },
     "metadata": {
      "needs_background": "light"
     },
     "output_type": "display_data"
    }
   ],
   "source": [
    "# Sort keys by values in dict1\n",
    "sorted_keys = sorted(train_label_counts, key=train_label_counts.get, reverse=True)\n",
    "\n",
    "# Get values sorted according to sorted_keys\n",
    "values1 = [train_label_counts[key] for key in sorted_keys]\n",
    "values2 = [val_label_counts.get(key, 0) for key in sorted_keys]\n",
    "values3 = [test_label_counts.get(key, 0) for key in sorted_keys]\n",
    "\n",
    "# Create the plot\n",
    "x = np.arange(len(sorted_keys))  # the label locations\n",
    "width = 0.25  # the width of the bars\n",
    "\n",
    "fig, ax = plt.subplots(figsize=(16, 8))\n",
    "rects1 = ax.bar(x - width, values1, width, label='train set')\n",
    "rects2 = ax.bar(x, values2, width, label='validation set')\n",
    "rects3 = ax.bar(x + width, values3, width, label='test set')\n",
    "\n",
    "# Add some text for labels, title and custom x-axis tick labels, etc.\n",
    "ax.set_xlabel('Labels')\n",
    "ax.set_ylabel('Counts')\n",
    "ax.set_title('Statistics of Dataset')\n",
    "ax.set_xticks(x)\n",
    "ax.set_xticklabels(sorted_keys, rotation=90)\n",
    "ax.legend()\n",
    "\n",
    "# Automatically adjust the subplot parameters to give some padding\n",
    "fig.tight_layout()\n",
    "\n",
    "plt.show()"
   ]
  },
  {
   "cell_type": "code",
   "execution_count": null,
   "id": "d51d1b23",
   "metadata": {},
   "outputs": [],
   "source": []
  }
 ],
 "metadata": {
  "kernelspec": {
   "display_name": "Python 3 (ipykernel)",
   "language": "python",
   "name": "python3"
  },
  "language_info": {
   "codemirror_mode": {
    "name": "ipython",
    "version": 3
   },
   "file_extension": ".py",
   "mimetype": "text/x-python",
   "name": "python",
   "nbconvert_exporter": "python",
   "pygments_lexer": "ipython3",
   "version": "3.10.8"
  }
 },
 "nbformat": 4,
 "nbformat_minor": 5
}
